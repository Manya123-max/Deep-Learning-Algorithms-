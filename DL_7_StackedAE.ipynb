{
  "cells": [
    {
      "cell_type": "markdown",
      "metadata": {
        "id": "view-in-github",
        "colab_type": "text"
      },
      "source": [
        "<a href=\"https://colab.research.google.com/github/Manya123-max/Deep-Learning-Algorithms-/blob/main/DL_7_StackedAE.ipynb\" target=\"_parent\"><img src=\"https://colab.research.google.com/assets/colab-badge.svg\" alt=\"Open In Colab\"/></a>"
      ]
    },
    {
      "cell_type": "code",
      "execution_count": null,
      "metadata": {
        "id": "Oml-xC5rA1x7"
      },
      "outputs": [],
      "source": [
        "import tensorflow as tf\n",
        "from tensorflow.keras.layers import Input, Dense\n",
        "from tensorflow.keras.models import Model\n",
        "from tensorflow.keras.utils import to_categorical\n",
        "from tensorflow.keras.models import Sequential\n",
        "from tensorflow.keras.layers import Dense"
      ]
    },
    {
      "cell_type": "code",
      "execution_count": null,
      "metadata": {
        "colab": {
          "base_uri": "https://localhost:8080/"
        },
        "id": "6JT_b-SY_p1q",
        "outputId": "9c841b8d-5cc6-4711-aadc-9e90e7bb864a"
      },
      "outputs": [
        {
          "output_type": "stream",
          "name": "stdout",
          "text": [
            "Downloading data from https://storage.googleapis.com/tensorflow/tf-keras-datasets/mnist.npz\n",
            "\u001b[1m11490434/11490434\u001b[0m \u001b[32m━━━━━━━━━━━━━━━━━━━━\u001b[0m\u001b[37m\u001b[0m \u001b[1m0s\u001b[0m 0us/step\n",
            "x_train shape: (60000, 28, 28)\n",
            "y_train shape: (60000,)\n"
          ]
        }
      ],
      "source": [
        "# prompt: load mnist dataset\n",
        "\n",
        "import tensorflow as tf\n",
        "\n",
        "(x_train, y_train), (x_test, y_test) = tf.keras.datasets.mnist.load_data()\n",
        "\n",
        "# You can now use x_train, y_train, x_test, and y_test for training and evaluating your model.\n",
        "# For example, you can print the shape of the training data:\n",
        "print(\"x_train shape:\", x_train.shape)\n",
        "print(\"y_train shape:\", y_train.shape)"
      ]
    },
    {
      "cell_type": "code",
      "execution_count": null,
      "metadata": {
        "id": "v8nmd2QOAER9"
      },
      "outputs": [],
      "source": [
        "# prompt: normalize the pixel values\n",
        "\n",
        "x_train = x_train.astype('float32') / 255.0\n",
        "x_test = x_test.astype('float32') / 255.0"
      ]
    },
    {
      "cell_type": "code",
      "execution_count": null,
      "metadata": {
        "colab": {
          "base_uri": "https://localhost:8080/"
        },
        "id": "zn0SZh9qAWd7",
        "outputId": "e6cd70e5-1335-4715-f65d-03c933ac577e"
      },
      "outputs": [
        {
          "output_type": "stream",
          "name": "stdout",
          "text": [
            "x_train shape after reshaping: (60000, 784)\n",
            "x_test shape after reshaping: (10000, 784)\n"
          ]
        }
      ],
      "source": [
        "\n",
        "\n",
        "\n",
        "# Reshape the images into vectors\n",
        "x_train = x_train.reshape(x_train.shape[0], -1)\n",
        "x_test = x_test.reshape(x_test.shape[0], -1)\n",
        "\n",
        "print(\"x_train shape after reshaping:\", x_train.shape)\n",
        "print(\"x_test shape after reshaping:\", x_test.shape)"
      ]
    },
    {
      "cell_type": "code",
      "execution_count": null,
      "metadata": {
        "colab": {
          "base_uri": "https://localhost:8080/"
        },
        "id": "ObDCbp06AhHj",
        "outputId": "9cefd6db-82ec-4d80-dcdb-d3409072e180"
      },
      "outputs": [
        {
          "output_type": "stream",
          "name": "stdout",
          "text": [
            "y_train shape after encoding: (60000, 10)\n",
            "y_test shape after encoding: (10000, 10)\n"
          ]
        }
      ],
      "source": [
        "# prompt: encoding yhe data\n",
        "\n",
        "from tensorflow.keras.utils import to_categorical\n",
        "\n",
        "# Convert y_train and y_test to one-hot encoded vectors\n",
        "y_train_encoded = to_categorical(y_train, num_classes=10)\n",
        "y_test_encoded = to_categorical(y_test, num_classes=10)\n",
        "\n",
        "print(\"y_train shape after encoding:\", y_train_encoded.shape)\n",
        "print(\"y_test shape after encoding:\", y_test_encoded.shape)"
      ]
    },
    {
      "cell_type": "code",
      "source": [
        "input_img=Input(shape=(784,))\n",
        "encded1=Dense(128,activation='relu')(input_img)\n",
        "encoded2=Dense(64,activation='relu')(encded1)\n",
        "encoded3=Dense(32,activation='relu')(encoded2)\n",
        "decoded1 = Dense(64, activation='relu')(encoded3)\n",
        "decoded2 = Dense(128, activation='relu')(decoded1)\n",
        "decoded3 = Dense(784, activation='sigmoid')(decoded2)"
      ],
      "metadata": {
        "id": "76HpGW2ftZpm"
      },
      "execution_count": null,
      "outputs": []
    },
    {
      "source": [
        "# Define the autoencoder to output the final decoded layer (decoded3)\n",
        "autoencoder1 = Model(input_img, decoded3)\n",
        "autoencoder1.compile(optimizer='adam', loss='binary_crossentropy')\n",
        "\n",
        "# Train the autoencoder\n",
        "autoencoder1.fit(x_train, x_train, epochs=10, batch_size=256, shuffle=True, validation_data=(x_test, x_test))"
      ],
      "cell_type": "code",
      "metadata": {
        "colab": {
          "base_uri": "https://localhost:8080/"
        },
        "id": "Y6RUbaEbuRhm",
        "outputId": "73abc783-2a08-4dcd-af3a-c8dcf8bcc9e7"
      },
      "execution_count": null,
      "outputs": [
        {
          "output_type": "stream",
          "name": "stdout",
          "text": [
            "Epoch 1/10\n",
            "\u001b[1m235/235\u001b[0m \u001b[32m━━━━━━━━━━━━━━━━━━━━\u001b[0m\u001b[37m\u001b[0m \u001b[1m7s\u001b[0m 22ms/step - loss: 0.3381 - val_loss: 0.1695\n",
            "Epoch 2/10\n",
            "\u001b[1m235/235\u001b[0m \u001b[32m━━━━━━━━━━━━━━━━━━━━\u001b[0m\u001b[37m\u001b[0m \u001b[1m8s\u001b[0m 13ms/step - loss: 0.1609 - val_loss: 0.1377\n",
            "Epoch 3/10\n",
            "\u001b[1m235/235\u001b[0m \u001b[32m━━━━━━━━━━━━━━━━━━━━\u001b[0m\u001b[37m\u001b[0m \u001b[1m7s\u001b[0m 23ms/step - loss: 0.1355 - val_loss: 0.1257\n",
            "Epoch 4/10\n",
            "\u001b[1m235/235\u001b[0m \u001b[32m━━━━━━━━━━━━━━━━━━━━\u001b[0m\u001b[37m\u001b[0m \u001b[1m5s\u001b[0m 23ms/step - loss: 0.1248 - val_loss: 0.1179\n",
            "Epoch 5/10\n",
            "\u001b[1m235/235\u001b[0m \u001b[32m━━━━━━━━━━━━━━━━━━━━\u001b[0m\u001b[37m\u001b[0m \u001b[1m10s\u001b[0m 24ms/step - loss: 0.1177 - val_loss: 0.1133\n",
            "Epoch 6/10\n",
            "\u001b[1m235/235\u001b[0m \u001b[32m━━━━━━━━━━━━━━━━━━━━\u001b[0m\u001b[37m\u001b[0m \u001b[1m4s\u001b[0m 17ms/step - loss: 0.1138 - val_loss: 0.1102\n",
            "Epoch 7/10\n",
            "\u001b[1m235/235\u001b[0m \u001b[32m━━━━━━━━━━━━━━━━━━━━\u001b[0m\u001b[37m\u001b[0m \u001b[1m5s\u001b[0m 16ms/step - loss: 0.1111 - val_loss: 0.1078\n",
            "Epoch 8/10\n",
            "\u001b[1m235/235\u001b[0m \u001b[32m━━━━━━━━━━━━━━━━━━━━\u001b[0m\u001b[37m\u001b[0m \u001b[1m4s\u001b[0m 15ms/step - loss: 0.1082 - val_loss: 0.1054\n",
            "Epoch 9/10\n",
            "\u001b[1m235/235\u001b[0m \u001b[32m━━━━━━━━━━━━━━━━━━━━\u001b[0m\u001b[37m\u001b[0m \u001b[1m4s\u001b[0m 15ms/step - loss: 0.1063 - val_loss: 0.1035\n",
            "Epoch 10/10\n",
            "\u001b[1m235/235\u001b[0m \u001b[32m━━━━━━━━━━━━━━━━━━━━\u001b[0m\u001b[37m\u001b[0m \u001b[1m3s\u001b[0m 13ms/step - loss: 0.1044 - val_loss: 0.1021\n"
          ]
        },
        {
          "output_type": "execute_result",
          "data": {
            "text/plain": [
              "<keras.src.callbacks.history.History at 0x7b375b20f5e0>"
            ]
          },
          "metadata": {},
          "execution_count": 7
        }
      ]
    },
    {
      "cell_type": "code",
      "source": [
        "# prompt: get the encoded representation from the first auto encoder\n",
        "\n",
        "encoder = Model(input_img, encoded3)\n",
        "encoded_imgs = encoder.predict(x_test)\n",
        "encoded_imgs"
      ],
      "metadata": {
        "colab": {
          "base_uri": "https://localhost:8080/"
        },
        "id": "T4JduMJouY_u",
        "outputId": "bff0fc8d-020b-420c-9db4-39c7b157bfc9"
      },
      "execution_count": null,
      "outputs": [
        {
          "output_type": "stream",
          "name": "stdout",
          "text": [
            "\u001b[1m313/313\u001b[0m \u001b[32m━━━━━━━━━━━━━━━━━━━━\u001b[0m\u001b[37m\u001b[0m \u001b[1m0s\u001b[0m 1ms/step\n"
          ]
        },
        {
          "output_type": "execute_result",
          "data": {
            "text/plain": [
              "array([[ 5.084236 , 14.848971 ,  6.7232223, ..., 11.253598 ,  8.774626 ,\n",
              "         0.       ],\n",
              "       [ 1.2527723,  9.605255 ,  6.7235637, ...,  4.547772 ,  7.3869925,\n",
              "         0.       ],\n",
              "       [ 9.194863 , 14.773658 ,  5.444077 , ...,  4.408006 , 11.783128 ,\n",
              "         0.       ],\n",
              "       ...,\n",
              "       [14.34295  , 20.90901  ,  7.265146 , ..., 12.985507 ,  7.2918096,\n",
              "         0.       ],\n",
              "       [ 5.3625817, 14.336704 ,  2.2502003, ..., 13.653349 , 11.095688 ,\n",
              "         0.       ],\n",
              "       [12.304641 , 18.843899 , 10.284166 , ...,  7.1246295,  7.7131915,\n",
              "         0.       ]], dtype=float32)"
            ]
          },
          "metadata": {},
          "execution_count": 8
        }
      ]
    },
    {
      "cell_type": "code",
      "source": [
        "# prompt: prediction on train and test data\n",
        "\n",
        "import tensorflow as tf\n",
        "from tensorflow.keras.layers import Input, Dense\n",
        "from tensorflow.keras.models import Model\n",
        "from tensorflow.keras.utils import to_categorical\n",
        "from tensorflow.keras.models import Sequential\n",
        "from tensorflow.keras.layers import Dense\n",
        "\n",
        "# ... (your existing code)\n",
        "\n",
        "# Predict on training data\n",
        "train_predictions = autoencoder1.predict(x_train)\n",
        "\n",
        "# Predict on testing data\n",
        "test_predictions = autoencoder1.predict(x_test)\n",
        "\n",
        "# Print shapes of the predictions\n",
        "print(\"Train Predictions Shape:\", train_predictions.shape)\n",
        "print(\"Test Predictions Shape:\", test_predictions.shape)\n",
        "\n",
        "# Example: Print first 5 predictions\n",
        "print(\"\\nFirst 5 Train Predictions:\\n\", train_predictions[:5])\n",
        "print(\"\\nFirst 5 Test Predictions:\\n\", test_predictions[:5])"
      ],
      "metadata": {
        "colab": {
          "base_uri": "https://localhost:8080/"
        },
        "id": "gKgUVqmaulAe",
        "outputId": "9ee851e4-b8be-43b1-c8d6-8840efaa5020"
      },
      "execution_count": null,
      "outputs": [
        {
          "output_type": "stream",
          "name": "stdout",
          "text": [
            "\u001b[1m1875/1875\u001b[0m \u001b[32m━━━━━━━━━━━━━━━━━━━━\u001b[0m\u001b[37m\u001b[0m \u001b[1m4s\u001b[0m 2ms/step\n",
            "\u001b[1m313/313\u001b[0m \u001b[32m━━━━━━━━━━━━━━━━━━━━\u001b[0m\u001b[37m\u001b[0m \u001b[1m1s\u001b[0m 2ms/step\n",
            "Train Predictions Shape: (60000, 784)\n",
            "Test Predictions Shape: (10000, 784)\n",
            "\n",
            "First 5 Train Predictions:\n",
            " [[4.5674012e-10 3.8166540e-08 2.0655295e-07 ... 5.7133377e-08\n",
            "  3.2618627e-07 6.7884864e-11]\n",
            " [1.4450417e-13 1.2852817e-12 2.3373588e-12 ... 1.0923970e-13\n",
            "  1.3556574e-12 1.3972360e-14]\n",
            " [6.4818482e-07 1.0043868e-06 8.5861451e-08 ... 7.7873602e-07\n",
            "  2.5866316e-07 2.8055954e-06]\n",
            " [4.6828833e-13 1.6430106e-12 2.0198032e-13 ... 1.9951671e-10\n",
            "  1.7271139e-11 2.7564468e-15]\n",
            " [1.6033937e-15 8.3433110e-15 2.0341774e-13 ... 1.3235715e-13\n",
            "  8.5687666e-17 7.1279993e-16]]\n",
            "\n",
            "First 5 Test Predictions:\n",
            " [[5.52240653e-13 7.06308818e-13 5.30476704e-11 ... 4.83893221e-12\n",
            "  1.03559349e-12 2.19062287e-14]\n",
            " [3.20212017e-11 2.45531129e-09 1.57797230e-11 ... 7.18301876e-11\n",
            "  1.11252465e-08 5.50437923e-14]\n",
            " [2.63556131e-13 2.26099819e-13 1.00129757e-12 ... 9.34975652e-10\n",
            "  1.23609998e-12 1.72259989e-15]\n",
            " [1.29687849e-15 6.22377855e-14 7.13553186e-13 ... 1.07318725e-15\n",
            "  1.16279504e-13 4.45251008e-17]\n",
            " [3.96347760e-10 8.34705527e-10 2.37336883e-09 ... 1.15913257e-09\n",
            "  3.32651262e-09 8.55280025e-09]]\n"
          ]
        }
      ]
    },
    {
      "source": [
        "# second auto encoder\n",
        "input_encoded1 = Input(shape=(32,))\n",
        "encoded1 = Dense(16, activation='relu')(input_encoded1)\n",
        "encoded2 = Dense(8, activation='relu')(encoded1)\n",
        "decoded1 = Dense(16, activation='relu')(encoded2)\n",
        "decoded2 = Dense(32, activation='sigmoid')(decoded1) # Output layer should match input shape\n",
        "\n",
        "autoencoder2 = Model(input_encoded1, decoded2) # Output is now the reconstructed input\n",
        "autoencoder2.compile(optimizer='adam', loss='binary_crossentropy')\n",
        "\n",
        "# Reshape encoded_imgs if necessary\n",
        "encoded_imgs = encoded_imgs.reshape(-1, 32)  # Reshape to (num_samples, 32)\n",
        "\n",
        "# Train the second autoencoder\n",
        "autoencoder2.fit(encoded_imgs, encoded_imgs, epochs=10, batch_size=256, shuffle=True)"
      ],
      "cell_type": "code",
      "metadata": {
        "colab": {
          "base_uri": "https://localhost:8080/"
        },
        "id": "tIW9UoY2wVsM",
        "outputId": "3ddce8e2-2453-4ef6-ab17-0f4fa5a3da1c"
      },
      "execution_count": null,
      "outputs": [
        {
          "output_type": "stream",
          "name": "stdout",
          "text": [
            "Epoch 1/10\n",
            "\u001b[1m40/40\u001b[0m \u001b[32m━━━━━━━━━━━━━━━━━━━━\u001b[0m\u001b[37m\u001b[0m \u001b[1m1s\u001b[0m 1ms/step - loss: -8.9042\n",
            "Epoch 2/10\n",
            "\u001b[1m40/40\u001b[0m \u001b[32m━━━━━━━━━━━━━━━━━━━━\u001b[0m\u001b[37m\u001b[0m \u001b[1m0s\u001b[0m 2ms/step - loss: -67.0394\n",
            "Epoch 3/10\n",
            "\u001b[1m40/40\u001b[0m \u001b[32m━━━━━━━━━━━━━━━━━━━━\u001b[0m\u001b[37m\u001b[0m \u001b[1m0s\u001b[0m 2ms/step - loss: -384.2398\n",
            "Epoch 4/10\n",
            "\u001b[1m40/40\u001b[0m \u001b[32m━━━━━━━━━━━━━━━━━━━━\u001b[0m\u001b[37m\u001b[0m \u001b[1m0s\u001b[0m 2ms/step - loss: -1711.8666\n",
            "Epoch 5/10\n",
            "\u001b[1m40/40\u001b[0m \u001b[32m━━━━━━━━━━━━━━━━━━━━\u001b[0m\u001b[37m\u001b[0m \u001b[1m0s\u001b[0m 1ms/step - loss: -5722.1646\n",
            "Epoch 6/10\n",
            "\u001b[1m40/40\u001b[0m \u001b[32m━━━━━━━━━━━━━━━━━━━━\u001b[0m\u001b[37m\u001b[0m \u001b[1m0s\u001b[0m 1ms/step - loss: -15881.2480\n",
            "Epoch 7/10\n",
            "\u001b[1m40/40\u001b[0m \u001b[32m━━━━━━━━━━━━━━━━━━━━\u001b[0m\u001b[37m\u001b[0m \u001b[1m0s\u001b[0m 2ms/step - loss: -36780.8828\n",
            "Epoch 8/10\n",
            "\u001b[1m40/40\u001b[0m \u001b[32m━━━━━━━━━━━━━━━━━━━━\u001b[0m\u001b[37m\u001b[0m \u001b[1m0s\u001b[0m 1ms/step - loss: -74711.2109\n",
            "Epoch 9/10\n",
            "\u001b[1m40/40\u001b[0m \u001b[32m━━━━━━━━━━━━━━━━━━━━\u001b[0m\u001b[37m\u001b[0m \u001b[1m0s\u001b[0m 2ms/step - loss: -138353.1094\n",
            "Epoch 10/10\n",
            "\u001b[1m40/40\u001b[0m \u001b[32m━━━━━━━━━━━━━━━━━━━━\u001b[0m\u001b[37m\u001b[0m \u001b[1m0s\u001b[0m 1ms/step - loss: -234129.1562\n"
          ]
        },
        {
          "output_type": "execute_result",
          "data": {
            "text/plain": [
              "<keras.src.callbacks.history.History at 0x7b36d293b9a0>"
            ]
          },
          "metadata": {},
          "execution_count": 10
        }
      ]
    },
    {
      "cell_type": "code",
      "source": [
        "\n",
        "\n",
        "# Assuming 'encoded_imgs' from the first autoencoder is available\n",
        "\n",
        "encoder2 = Model(input_encoded1, encoded2) # Create encoder model for the second AE\n",
        "encoded_representations = encoder2.predict(encoded_imgs)\n",
        "\n",
        "print(encoded_representations)\n",
        "encoded_representations.shape"
      ],
      "metadata": {
        "colab": {
          "base_uri": "https://localhost:8080/"
        },
        "id": "1qTkKJWbwemk",
        "outputId": "427c55f4-dc20-40aa-cd93-c1c5406edbb4"
      },
      "execution_count": null,
      "outputs": [
        {
          "output_type": "stream",
          "name": "stdout",
          "text": [
            "\u001b[1m313/313\u001b[0m \u001b[32m━━━━━━━━━━━━━━━━━━━━\u001b[0m\u001b[37m\u001b[0m \u001b[1m0s\u001b[0m 1ms/step\n",
            "[[1338.6255     0.      1301.6633  ... 1470.4674  1384.7231  1490.7184 ]\n",
            " [1066.2227     0.      1047.2231  ... 1185.5298  1101.7446  1182.8407 ]\n",
            " [1017.07983    0.       991.7732  ... 1120.7222  1053.2042  1130.6364 ]\n",
            " ...\n",
            " [1626.2793     0.      1591.7628  ... 1791.6477  1681.044   1802.2916 ]\n",
            " [1162.1245     0.      1141.8254  ... 1289.7285  1203.0454  1287.6075 ]\n",
            " [1449.1863     0.      1427.2668  ... 1605.4543  1498.7788  1598.7927 ]]\n"
          ]
        },
        {
          "output_type": "execute_result",
          "data": {
            "text/plain": [
              "(10000, 8)"
            ]
          },
          "metadata": {},
          "execution_count": 11
        }
      ]
    },
    {
      "cell_type": "code",
      "source": [
        "# prompt: predictions on train and test data\n",
        "\n",
        "# Predict on training data using the second autoencoder\n",
        "train_predictions_2 = autoencoder2.predict(encoded_imgs)\n",
        "\n",
        "# You would need to encode the training data using the first autoencoder's encoder\n",
        "# to get the input for the second autoencoder's prediction.\n",
        "encoded_train_imgs = encoder.predict(x_train)\n",
        "train_predictions_2 = autoencoder2.predict(encoded_train_imgs)\n",
        "\n",
        "# Print shapes of the predictions from the second autoencoder\n",
        "print(\"Train Predictions Shape (Autoencoder 2):\", train_predictions_2.shape)\n",
        "\n",
        "# Example: Print first 5 predictions from the second autoencoder\n",
        "print(\"\\nFirst 5 Train Predictions (Autoencoder 2):\\n\", train_predictions_2[:5])"
      ],
      "metadata": {
        "colab": {
          "base_uri": "https://localhost:8080/"
        },
        "id": "SFXw7CAswqjm",
        "outputId": "fae2b4d0-7359-4ac4-a2f8-1fb563608f40"
      },
      "execution_count": null,
      "outputs": [
        {
          "output_type": "stream",
          "name": "stdout",
          "text": [
            "\u001b[1m313/313\u001b[0m \u001b[32m━━━━━━━━━━━━━━━━━━━━\u001b[0m\u001b[37m\u001b[0m \u001b[1m0s\u001b[0m 1ms/step\n",
            "\u001b[1m1875/1875\u001b[0m \u001b[32m━━━━━━━━━━━━━━━━━━━━\u001b[0m\u001b[37m\u001b[0m \u001b[1m3s\u001b[0m 2ms/step\n",
            "\u001b[1m1875/1875\u001b[0m \u001b[32m━━━━━━━━━━━━━━━━━━━━\u001b[0m\u001b[37m\u001b[0m \u001b[1m2s\u001b[0m 1ms/step\n",
            "Train Predictions Shape (Autoencoder 2): (60000, 32)\n",
            "\n",
            "First 5 Train Predictions (Autoencoder 2):\n",
            " [[1.         1.         1.         1.         1.         1.\n",
            "  1.         1.         1.         0.         1.         1.\n",
            "  1.         1.         0.         1.         1.         1.\n",
            "  1.         1.         1.         1.         1.         1.\n",
            "  0.         0.         1.         1.         1.         1.\n",
            "  1.         0.        ]\n",
            " [1.         1.         1.         1.         1.         1.\n",
            "  1.         1.         1.         0.         1.         1.\n",
            "  1.         1.         0.         1.         1.         1.\n",
            "  1.         1.         1.         1.         1.         1.\n",
            "  0.         0.         1.         1.         1.         1.\n",
            "  1.         0.        ]\n",
            " [1.         1.         1.         1.         1.         1.\n",
            "  1.         1.         1.         0.         1.         1.\n",
            "  1.         1.         0.         1.         1.         1.\n",
            "  1.         1.         1.         1.         0.99999976 1.\n",
            "  0.         0.         1.         1.         1.         1.\n",
            "  1.         0.        ]\n",
            " [1.         1.         1.         1.         1.         1.\n",
            "  1.         1.         1.         0.         1.         1.\n",
            "  1.         1.         0.         1.         1.         1.\n",
            "  1.         1.         1.         1.         1.         1.\n",
            "  0.         0.         1.         1.         1.         1.\n",
            "  1.         0.        ]\n",
            " [1.         1.         1.         1.         1.         1.\n",
            "  1.         1.         1.         0.         1.         1.\n",
            "  1.         1.         0.         1.         1.         1.\n",
            "  1.         1.         1.         1.         1.         1.\n",
            "  0.         0.         1.         1.         1.         1.\n",
            "  1.         0.        ]]\n"
          ]
        }
      ]
    },
    {
      "cell_type": "code",
      "source": [
        "# prompt: fine tuning with classification layer\n",
        "\n",
        "# Define the classifier model\n",
        "classifier_input = Input(shape=(8,)) # Input shape matches the output of the second encoder\n",
        "classifier_layer1 = Dense(16, activation='relu')(classifier_input)\n",
        "classifier_layer2 = Dense(10, activation='softmax')(classifier_layer1) # Output layer with 10 classes for MNIST\n",
        "\n",
        "classifier_model = Model(classifier_input, classifier_layer2)\n",
        "classifier_model.compile(optimizer='adam', loss='categorical_crossentropy', metrics=['accuracy'])\n",
        "\n",
        "\n",
        "# Train the classifier\n",
        "classifier_model.fit(encoded_representations, y_test_encoded, epochs=10, batch_size=256) # Use encoded representations and true labels\n",
        "# Evaluate the classifier\n",
        "loss, accuracy = classifier_model.evaluate(encoded_representations, y_test_encoded, verbose=0)\n",
        "print(f\"Test Loss: {loss:.4f}\")\n",
        "print(f\"Test Accuracy: {accuracy:.4f}\")"
      ],
      "metadata": {
        "colab": {
          "base_uri": "https://localhost:8080/"
        },
        "id": "ZhY0Q07Owxo9",
        "outputId": "0af17687-2406-49c8-8046-0b63109ae9d9"
      },
      "execution_count": null,
      "outputs": [
        {
          "output_type": "stream",
          "name": "stdout",
          "text": [
            "Epoch 1/10\n",
            "\u001b[1m40/40\u001b[0m \u001b[32m━━━━━━━━━━━━━━━━━━━━\u001b[0m\u001b[37m\u001b[0m \u001b[1m1s\u001b[0m 2ms/step - accuracy: 0.0954 - loss: 1405.6233\n",
            "Epoch 2/10\n",
            "\u001b[1m40/40\u001b[0m \u001b[32m━━━━━━━━━━━━━━━━━━━━\u001b[0m\u001b[37m\u001b[0m \u001b[1m0s\u001b[0m 1ms/step - accuracy: 0.0862 - loss: 754.8756 \n",
            "Epoch 3/10\n",
            "\u001b[1m40/40\u001b[0m \u001b[32m━━━━━━━━━━━━━━━━━━━━\u001b[0m\u001b[37m\u001b[0m \u001b[1m0s\u001b[0m 2ms/step - accuracy: 0.0737 - loss: 479.1566\n",
            "Epoch 4/10\n",
            "\u001b[1m40/40\u001b[0m \u001b[32m━━━━━━━━━━━━━━━━━━━━\u001b[0m\u001b[37m\u001b[0m \u001b[1m0s\u001b[0m 1ms/step - accuracy: 0.0525 - loss: 299.8326 \n",
            "Epoch 5/10\n",
            "\u001b[1m40/40\u001b[0m \u001b[32m━━━━━━━━━━━━━━━━━━━━\u001b[0m\u001b[37m\u001b[0m \u001b[1m0s\u001b[0m 1ms/step - accuracy: 0.0702 - loss: 175.4845 \n",
            "Epoch 6/10\n",
            "\u001b[1m40/40\u001b[0m \u001b[32m━━━━━━━━━━━━━━━━━━━━\u001b[0m\u001b[37m\u001b[0m \u001b[1m0s\u001b[0m 1ms/step - accuracy: 0.0664 - loss: 96.5250  \n",
            "Epoch 7/10\n",
            "\u001b[1m40/40\u001b[0m \u001b[32m━━━━━━━━━━━━━━━━━━━━\u001b[0m\u001b[37m\u001b[0m \u001b[1m0s\u001b[0m 1ms/step - accuracy: 0.0808 - loss: 53.5666 \n",
            "Epoch 8/10\n",
            "\u001b[1m40/40\u001b[0m \u001b[32m━━━━━━━━━━━━━━━━━━━━\u001b[0m\u001b[37m\u001b[0m \u001b[1m0s\u001b[0m 1ms/step - accuracy: 0.0887 - loss: 32.4995 \n",
            "Epoch 9/10\n",
            "\u001b[1m40/40\u001b[0m \u001b[32m━━━━━━━━━━━━━━━━━━━━\u001b[0m\u001b[37m\u001b[0m \u001b[1m0s\u001b[0m 2ms/step - accuracy: 0.0965 - loss: 20.0454\n",
            "Epoch 10/10\n",
            "\u001b[1m40/40\u001b[0m \u001b[32m━━━━━━━━━━━━━━━━━━━━\u001b[0m\u001b[37m\u001b[0m \u001b[1m0s\u001b[0m 1ms/step - accuracy: 0.0970 - loss: 16.1002 \n",
            "Test Loss: 12.5285\n",
            "Test Accuracy: 0.1164\n"
          ]
        }
      ]
    },
    {
      "cell_type": "code",
      "execution_count": null,
      "metadata": {
        "id": "jd4xJW9Pdh1a",
        "colab": {
          "base_uri": "https://localhost:8080/"
        },
        "outputId": "55335b53-cbed-4be9-c79e-c66b0ea516ce"
      },
      "outputs": [
        {
          "output_type": "stream",
          "name": "stderr",
          "text": [
            "/usr/local/lib/python3.10/dist-packages/keras/src/layers/core/dense.py:87: UserWarning: Do not pass an `input_shape`/`input_dim` argument to a layer. When using Sequential models, prefer using an `Input(shape)` object as the first layer in the model instead.\n",
            "  super().__init__(activity_regularizer=activity_regularizer, **kwargs)\n"
          ]
        }
      ],
      "source": [
        "\n",
        "\n",
        "# Build a classification model on top of the encoded features\n",
        "classification_model = Sequential()\n",
        "classification_model.add(Dense(16, activation='relu', input_shape=(8,)))\n",
        "classification_model.add(Dense(10, activation='softmax'))\n",
        "\n",
        "\n"
      ]
    },
    {
      "source": [
        "# Encode the training and testing data using the first autoencoder's encoder\n",
        "encoded_x_train = encoder.predict(x_train)\n",
        "encoded_x_test = encoder.predict(x_test)\n",
        "\n",
        "# Encode the training and testing data using the second autoencoder's encoder,\n",
        "# taking the output of the first autoencoder as input.\n",
        "encoded_x_train_2 = encoder2.predict(encoded_x_train)\n",
        "encoded_x_test_2 = encoder2.predict(encoded_x_test)\n",
        "\n",
        "# Compile the classification model (this part remains the same)\n",
        "classification_model.compile(optimizer='adam', loss='categorical_crossentropy', metrics=['accuracy'])\n",
        "\n",
        "# Train the classification model using the encoded data\n",
        "classification_model.fit(encoded_x_train_2, y_train_encoded, epochs=10, batch_size=256, validation_data=(encoded_x_test_2, y_test_encoded))"
      ],
      "cell_type": "code",
      "metadata": {
        "colab": {
          "base_uri": "https://localhost:8080/"
        },
        "id": "4NipxCZWjCNg",
        "outputId": "63af7087-14fc-490b-f82d-60a023c02a9b"
      },
      "execution_count": null,
      "outputs": [
        {
          "output_type": "stream",
          "name": "stdout",
          "text": [
            "\u001b[1m1875/1875\u001b[0m \u001b[32m━━━━━━━━━━━━━━━━━━━━\u001b[0m\u001b[37m\u001b[0m \u001b[1m3s\u001b[0m 2ms/step\n",
            "\u001b[1m313/313\u001b[0m \u001b[32m━━━━━━━━━━━━━━━━━━━━\u001b[0m\u001b[37m\u001b[0m \u001b[1m0s\u001b[0m 1ms/step\n",
            "\u001b[1m1875/1875\u001b[0m \u001b[32m━━━━━━━━━━━━━━━━━━━━\u001b[0m\u001b[37m\u001b[0m \u001b[1m2s\u001b[0m 1ms/step\n",
            "\u001b[1m313/313\u001b[0m \u001b[32m━━━━━━━━━━━━━━━━━━━━\u001b[0m\u001b[37m\u001b[0m \u001b[1m0s\u001b[0m 1ms/step  \n",
            "Epoch 1/10\n",
            "\u001b[1m235/235\u001b[0m \u001b[32m━━━━━━━━━━━━━━━━━━━━\u001b[0m\u001b[37m\u001b[0m \u001b[1m1s\u001b[0m 2ms/step - accuracy: 0.1099 - loss: 344.5454 - val_accuracy: 0.1298 - val_loss: 3.2042\n",
            "Epoch 2/10\n",
            "\u001b[1m235/235\u001b[0m \u001b[32m━━━━━━━━━━━━━━━━━━━━\u001b[0m\u001b[37m\u001b[0m \u001b[1m0s\u001b[0m 1ms/step - accuracy: 0.1089 - loss: 3.2257 - val_accuracy: 0.0801 - val_loss: 3.2855\n",
            "Epoch 3/10\n",
            "\u001b[1m235/235\u001b[0m \u001b[32m━━━━━━━━━━━━━━━━━━━━\u001b[0m\u001b[37m\u001b[0m \u001b[1m1s\u001b[0m 2ms/step - accuracy: 0.1109 - loss: 3.2589 - val_accuracy: 0.1166 - val_loss: 3.3742\n",
            "Epoch 4/10\n",
            "\u001b[1m235/235\u001b[0m \u001b[32m━━━━━━━━━━━━━━━━━━━━\u001b[0m\u001b[37m\u001b[0m \u001b[1m1s\u001b[0m 2ms/step - accuracy: 0.1092 - loss: 3.3024 - val_accuracy: 0.0807 - val_loss: 3.5500\n",
            "Epoch 5/10\n",
            "\u001b[1m235/235\u001b[0m \u001b[32m━━━━━━━━━━━━━━━━━━━━\u001b[0m\u001b[37m\u001b[0m \u001b[1m0s\u001b[0m 2ms/step - accuracy: 0.1130 - loss: 3.2862 - val_accuracy: 0.0727 - val_loss: 3.4687\n",
            "Epoch 6/10\n",
            "\u001b[1m235/235\u001b[0m \u001b[32m━━━━━━━━━━━━━━━━━━━━\u001b[0m\u001b[37m\u001b[0m \u001b[1m0s\u001b[0m 2ms/step - accuracy: 0.1092 - loss: 3.3145 - val_accuracy: 0.1116 - val_loss: 3.2984\n",
            "Epoch 7/10\n",
            "\u001b[1m235/235\u001b[0m \u001b[32m━━━━━━━━━━━━━━━━━━━━\u001b[0m\u001b[37m\u001b[0m \u001b[1m1s\u001b[0m 2ms/step - accuracy: 0.1105 - loss: 3.2622 - val_accuracy: 0.1003 - val_loss: 3.3349\n",
            "Epoch 8/10\n",
            "\u001b[1m235/235\u001b[0m \u001b[32m━━━━━━━━━━━━━━━━━━━━\u001b[0m\u001b[37m\u001b[0m \u001b[1m0s\u001b[0m 2ms/step - accuracy: 0.1138 - loss: 3.3122 - val_accuracy: 0.1322 - val_loss: 3.1611\n",
            "Epoch 9/10\n",
            "\u001b[1m235/235\u001b[0m \u001b[32m━━━━━━━━━━━━━━━━━━━━\u001b[0m\u001b[37m\u001b[0m \u001b[1m1s\u001b[0m 2ms/step - accuracy: 0.1146 - loss: 3.2592 - val_accuracy: 0.0774 - val_loss: 3.2368\n",
            "Epoch 10/10\n",
            "\u001b[1m235/235\u001b[0m \u001b[32m━━━━━━━━━━━━━━━━━━━━\u001b[0m\u001b[37m\u001b[0m \u001b[1m1s\u001b[0m 2ms/step - accuracy: 0.1133 - loss: 3.2804 - val_accuracy: 0.1352 - val_loss: 3.4097\n"
          ]
        },
        {
          "output_type": "execute_result",
          "data": {
            "text/plain": [
              "<keras.src.callbacks.history.History at 0x7b36d280fd90>"
            ]
          },
          "metadata": {},
          "execution_count": 15
        }
      ]
    },
    {
      "cell_type": "code",
      "execution_count": null,
      "metadata": {
        "colab": {
          "base_uri": "https://localhost:8080/"
        },
        "id": "Sbk2hK8reIhy",
        "outputId": "63ae3905-a5dd-4470-bfc6-071da6793929"
      },
      "outputs": [
        {
          "output_type": "stream",
          "name": "stdout",
          "text": [
            "\u001b[1m313/313\u001b[0m \u001b[32m━━━━━━━━━━━━━━━━━━━━\u001b[0m\u001b[37m\u001b[0m \u001b[1m1s\u001b[0m 2ms/step - accuracy: 0.1520 - loss: 3.3971\n",
            "Test accuracy: 0.13519999384880066\n"
          ]
        }
      ],
      "source": [
        "\n",
        "# Evaluate the classification model\n",
        "loss, accuracy = classification_model.evaluate(encoded_x_test_2, y_test_encoded)\n",
        "print('Test accuracy:', accuracy)"
      ]
    },
    {
      "source": [
        "# prompt: visualize the reconstucted images using complete stacked ae\n",
        "import matplotlib.pyplot as plt\n",
        "from tensorflow import keras\n",
        "from tensorflow.keras.layers import Input, Dense\n",
        "from tensorflow.keras.models import Model\n",
        "\n",
        "input_stacked = Input(shape=(784,))\n",
        "encoded1_stacked = Dense(128, activation='relu')(input_stacked)\n",
        "encoded2_stacked = Dense(64, activation='relu')(encoded1_stacked)\n",
        "encoded3_stacked = Dense(32, activation='relu')(encoded2_stacked)\n",
        "decoded_stacked1 = Dense(64, activation='relu')(encoded3_stacked)\n",
        "decoded_stacked2 = Dense(128, activation='relu')(decoded_stacked1)\n",
        "decoded_stacked3 = Dense(784, activation='sigmoid')(decoded_stacked2)\n",
        "\n",
        "# Create the stacked autoencoder model\n",
        "stacked_autoencoder = Model(input_stacked, decoded_stacked3)\n",
        "decoded_imgs = stacked_autoencoder.predict(x_test)\n",
        "# Compile the stacked autoencoder\n",
        "stacked_autoencoder.compile(optimizer='adam', loss='binary_crossentropy')\n",
        "n=10\n",
        "plt.figure(figsize=(20, 4))\n",
        "for i in range(n):\n",
        "    # Display original\n",
        "    ax = plt.subplot(2, n, i +1)\n",
        "    plt.imshow(x_test[i].reshape(28, 28),cmap='gray')\n",
        "    plt.axis('off')\n",
        "\n",
        "    # Display reconstruction\n",
        "    # Predict using the stacked autoencoder and reshape\n",
        "    decoded_img = stacked_autoencoder.predict(x_test[i].reshape(1, 784)).reshape(28, 28)\n",
        "\n",
        "    ax = plt.subplot(2, n, i + 1 + n)\n",
        "    plt.imshow(decoded_img, cmap='gray') # Display the decoded image\n",
        "    plt.axis('off')\n",
        "\n",
        "plt.show()"
      ],
      "cell_type": "code",
      "metadata": {
        "colab": {
          "base_uri": "https://localhost:8080/",
          "height": 527
        },
        "id": "AXuopKE3yh8b",
        "outputId": "ecc0ce51-ae98-46af-a1ec-5b1fd99d658e"
      },
      "execution_count": null,
      "outputs": [
        {
          "output_type": "stream",
          "name": "stdout",
          "text": [
            "\u001b[1m313/313\u001b[0m \u001b[32m━━━━━━━━━━━━━━━━━━━━\u001b[0m\u001b[37m\u001b[0m \u001b[1m1s\u001b[0m 3ms/step\n",
            "\u001b[1m1/1\u001b[0m \u001b[32m━━━━━━━━━━━━━━━━━━━━\u001b[0m\u001b[37m\u001b[0m \u001b[1m0s\u001b[0m 59ms/step\n",
            "\u001b[1m1/1\u001b[0m \u001b[32m━━━━━━━━━━━━━━━━━━━━\u001b[0m\u001b[37m\u001b[0m \u001b[1m0s\u001b[0m 21ms/step\n",
            "\u001b[1m1/1\u001b[0m \u001b[32m━━━━━━━━━━━━━━━━━━━━\u001b[0m\u001b[37m\u001b[0m \u001b[1m0s\u001b[0m 16ms/step\n",
            "\u001b[1m1/1\u001b[0m \u001b[32m━━━━━━━━━━━━━━━━━━━━\u001b[0m\u001b[37m\u001b[0m \u001b[1m0s\u001b[0m 16ms/step\n",
            "\u001b[1m1/1\u001b[0m \u001b[32m━━━━━━━━━━━━━━━━━━━━\u001b[0m\u001b[37m\u001b[0m \u001b[1m0s\u001b[0m 18ms/step\n",
            "\u001b[1m1/1\u001b[0m \u001b[32m━━━━━━━━━━━━━━━━━━━━\u001b[0m\u001b[37m\u001b[0m \u001b[1m0s\u001b[0m 26ms/step\n",
            "\u001b[1m1/1\u001b[0m \u001b[32m━━━━━━━━━━━━━━━━━━━━\u001b[0m\u001b[37m\u001b[0m \u001b[1m0s\u001b[0m 16ms/step\n",
            "\u001b[1m1/1\u001b[0m \u001b[32m━━━━━━━━━━━━━━━━━━━━\u001b[0m\u001b[37m\u001b[0m \u001b[1m0s\u001b[0m 16ms/step\n",
            "\u001b[1m1/1\u001b[0m \u001b[32m━━━━━━━━━━━━━━━━━━━━\u001b[0m\u001b[37m\u001b[0m \u001b[1m0s\u001b[0m 15ms/step\n",
            "\u001b[1m1/1\u001b[0m \u001b[32m━━━━━━━━━━━━━━━━━━━━\u001b[0m\u001b[37m\u001b[0m \u001b[1m0s\u001b[0m 19ms/step\n"
          ]
        },
        {
          "output_type": "display_data",
          "data": {
            "text/plain": [
              "<Figure size 2000x400 with 20 Axes>"
            ],
            "image/png": "[encoded data removed]"
          },
          "metadata": {}
        }
      ]
    },
    {
      "cell_type": "code",
      "execution_count": null,
      "metadata": {
        "id": "72WO2Z15CUxt",
        "colab": {
          "base_uri": "https://localhost:8080/",
          "height": 96
        },
        "outputId": "3c5073f5-e22d-41ae-abeb-e145c015b86b"
      },
      "outputs": [
        {
          "output_type": "execute_result",
          "data": {
            "text/plain": [
              "(-0.5, 27.5, 27.5, -0.5)"
            ]
          },
          "metadata": {},
          "execution_count": 18
        },
        {
          "output_type": "display_data",
          "data": {
            "text/plain": [
              "<Figure size 640x480 with 1 Axes>"
            ],
            "image/png": "[encoded data removed]"
          },
          "metadata": {}
        }
      ],
      "source": [
        "# prompt: display reconstruction\n",
        "ax= plt.subplot(2,n,i+1)\n",
        "plt.imshow(decoded_imgs[i].reshape(28,28),cmap='gray')\n",
        "plt.axis('off')"
      ]
    }
  ],
  "metadata": {
    "colab": {
      "provenance": [],
      "include_colab_link": true
    },
    "kernelspec": {
      "display_name": "Python 3",
      "name": "python3"
    },
    "language_info": {
      "name": "python"
    }
  },
  "nbformat": 4,
  "nbformat_minor": 0
}